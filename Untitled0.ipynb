{
  "nbformat": 4,
  "nbformat_minor": 0,
  "metadata": {
    "colab": {
      "provenance": [],
      "authorship_tag": "ABX9TyNQ6mCQlAVl1Y7mZhz/fJeL",
      "include_colab_link": true
    },
    "kernelspec": {
      "name": "python3",
      "display_name": "Python 3"
    },
    "language_info": {
      "name": "python"
    }
  },
  "cells": [
    {
      "cell_type": "markdown",
      "metadata": {
        "id": "view-in-github",
        "colab_type": "text"
      },
      "source": [
        "<a href=\"https://colab.research.google.com/github/majork200/-NF3-BIG-DATA-Jhonathan-William-andrade-alves/blob/main/Untitled0.ipynb\" target=\"_parent\"><img src=\"https://colab.research.google.com/assets/colab-badge.svg\" alt=\"Open In Colab\"/></a>"
      ]
    },
    {
      "cell_type": "code",
      "source": [
        "#jhonatham william\n",
        "#202202136956\n",
        "import pandas as pd\n",
        "dataset = pd.read_csv('https://raw.githubusercontent.com/majork200/-NF3-BIG-DATA-Jhonathan-William-andrade-alves/main/world_alcohol.csv',encoding= 'latin-1', sep = ',')\n",
        "dataset"
      ],
      "metadata": {
        "id": "r7EWp9yUYT8_"
      },
      "execution_count": null,
      "outputs": []
    },
    {
      "cell_type": "code",
      "source": [
        "#agrupar por tipos de bebida\n",
        "tipbebidas = dataset.groupby('Beverage Types')\n",
        "\n",
        "\n",
        "for grupo, dados in tipbebidas:\n",
        "    print(\"Grupo:\", grupo)\n",
        "    display(dados)\n",
        "    print()"
      ],
      "metadata": {
        "id": "0S2Y6R3maqNz"
      },
      "execution_count": null,
      "outputs": []
    },
    {
      "cell_type": "code",
      "source": [
        "#b. Agrupe os dados por Região e por Ano;\n",
        "reg_ano = dataset.groupby(['Year','Country'])\n",
        "\n",
        "for grupo, dados in reg_ano:\n",
        "    print(\"Grupo:\", grupo)\n",
        "    display(dados)\n",
        "    print()"
      ],
      "metadata": {
        "id": "olnKL65nasRC"
      },
      "execution_count": null,
      "outputs": []
    },
    {
      "cell_type": "code",
      "source": [
        "# Seção de Contagens: Contar a ocorrência de Regiões, de Países e a soma da coluna de valores\n",
        "#por Bebida.\n",
        "reg_somav = dataset[['WHO region','Country','Display Value','Beverage Types']].groupby(['Beverage Types','WHO region','Country',]).sum()\n",
        "reg_somav"
      ],
      "metadata": {
        "id": "tO0xBHd6asXC"
      },
      "execution_count": null,
      "outputs": []
    },
    {
      "cell_type": "code",
      "source": [
        "#Realize análises estatísticas da coluna dos valores: Média, Moda, Mediana, Estatística\n",
        "#Descritiva e Gráfico de comparação dos valores agrupados por tipo de bebida.\n",
        "\n",
        "import matplotlib.pyplot as plt\n",
        "\n",
        "# Realizar análises estatísticas da coluna dos valores\n",
        "media = dataset['Display Value'].mean()\n",
        "moda = dataset['Display Value'].mode()\n",
        "mediana = dataset['Display Value'].median()\n",
        "estatistica_descritiva = dataset['Display Value'].describe()\n",
        "\n",
        "# análises estatísticas\n",
        "print('\\nMédia:\\n', media)\n",
        "print('\\nModa:\\n', moda)\n",
        "print('\\nMediana:\\n', mediana)\n",
        "print('\\nEstatística Descritiva:\\n', estatistica_descritiva)\n",
        "\n",
        "# Gráfico por tipo de bebida\n",
        "soma_bebida = dataset.groupby('Beverage Types')['Display Value'].mean()\n",
        "soma_bebida.plot(kind='bar')\n",
        "plt.xlabel('Tipos de Bebidas')\n",
        "plt.ylabel('Valores da Bebida')\n",
        "plt.show()"
      ],
      "metadata": {
        "id": "aRajfwC3fRYK"
      },
      "execution_count": null,
      "outputs": []
    },
    {
      "cell_type": "code",
      "source": [
        "#Mostre resultados de acordo com alguns critérios:\n",
        "#i. Mostrar a coluna de bebidas do ano de 1985.\n",
        "bbds1985 = dataset.loc[dataset['Year'] == 1985]\n",
        "bbds1985"
      ],
      "metadata": {
        "id": "LcTRbPpsgAIr"
      },
      "execution_count": null,
      "outputs": []
    },
    {
      "cell_type": "code",
      "source": [
        "# ii. Mostrar a coluna de Região com valores acima de 4.\n",
        "reg_acima_de_4 = dataset.loc[dataset['Display Value'] > 4, ['WHO region']]\n",
        "reg_acima_de_4"
      ],
      "metadata": {
        "id": "DwmdTb2it3ws"
      },
      "execution_count": null,
      "outputs": []
    },
    {
      "cell_type": "code",
      "source": [
        "#2\n",
        "dataset2 = pd.read_csv('https://raw.githubusercontent.com/majork200/-NF3-BIG-DATA-Jhonathan-William-andrade-alves/main/cursos-prouni.csv',encoding = 'latin-1',sep = ',')\n",
        "dataset2 ['curso_busca'] = dataset2['curso_busca'].str.replace('MatemÃ¡tica','Matemática')\n",
        "dataset2 ['grau'] = dataset2['grau'].str.replace('TecnolÃ³gico','Tecnológico')\n",
        "dataset2"
      ],
      "metadata": {
        "id": "HtrDSmk1u4za"
      },
      "execution_count": null,
      "outputs": []
    },
    {
      "cell_type": "code",
      "source": [
        "# Efetuar a limpeza das colunas de notas: onde tiver NaN (Not a Number), substituir por 0,0.\n",
        "colunas_notas = ['bolsa_integral_ampla', 'bolsa_parcial_cotas', 'bolsa_parcial_ampla','nota_integral_cotas','nota_parcial_ampla','nota_parcial_cotas']\n",
        "dataset2[colunas_notas] = dataset2[colunas_notas].fillna(0.0)\n",
        "dataset2"
      ],
      "metadata": {
        "id": "CmtH0kBrwQ_I"
      },
      "execution_count": null,
      "outputs": []
    },
    {
      "cell_type": "code",
      "source": [
        "#Agrupe os dados pelo grau (Bacharelado, Licenciatura, etc).\n",
        "dados_por_grupos = dataset2.groupby('grau')\n",
        "\n",
        "for graus, dados in dados_por_grupos:\n",
        "    print(\"graus:\", graus)\n",
        "    display(dados)\n",
        "    print()"
      ],
      "metadata": {
        "id": "dpsTFq0zxC3n"
      },
      "execution_count": null,
      "outputs": []
    },
    {
      "cell_type": "code",
      "source": [
        "#Agrupe os dados pelos cursos de Matemática, Medicina e Pedagogia.\n",
        "dados_por_curso = dataset2.groupby('curso_busca')\n",
        "\n",
        "for cursos,dados in dados_por_curso:\n",
        "    print(\"cursos:\",cursos)\n",
        "    display(dados)\n",
        "    print()"
      ],
      "metadata": {
        "id": "XB9zRRAKxGlv"
      },
      "execution_count": null,
      "outputs": []
    },
    {
      "cell_type": "code",
      "source": [
        "#. Agrupe os dados por Estado e obtenha a média de notas de ordem por Estado.\n",
        "coluna_dados = dataset2[['grau','turno','mensalidade','bolsa_integral_cotas','bolsa_integral_ampla','bolsa_parcial_cotas','bolsa_parcial_ampla','curso_id','curso_busca','cidade_busca','uf_busca','cidade_filtro','universidade_nome','campus_nome','campus_id','nome','nota_integral_ampla','nota_integral_cotas','nota_parcial_ampla','nota_parcial_cotas']]\n",
        "coluna_dados.groupby('uf_busca').mean()"
      ],
      "metadata": {
        "id": "S9Iw9260MKNx"
      },
      "execution_count": null,
      "outputs": []
    },
    {
      "cell_type": "code",
      "source": [
        "#Agrupe os dados pelos cursos Tecnológicos.\n",
        "cursos_tecnologia = dataset2.loc[dataset2['grau'] == 'Tecnológico']\n",
        "cursos_tecnologia"
      ],
      "metadata": {
        "id": "FT8W5ohAxP0u"
      },
      "execution_count": null,
      "outputs": []
    },
    {
      "cell_type": "code",
      "source": [
        "#Elimine a coluna “cidade_filtro” do dataframe.\n",
        "dataset2 = dataset2.drop('cidade_filtro', axis=1)\n",
        "dataset2\n"
      ],
      "metadata": {
        "id": "bDqWPhq6xUHN"
      },
      "execution_count": null,
      "outputs": []
    },
    {
      "cell_type": "code",
      "source": [
        "#Apresente a média das mensalidades dos cursos de Medicina.\n",
        "cursos_medicina = dataset2[dataset2['nome'] == 'Medicina']\n",
        "cursos_medicina['mensalidade'].mean"
      ],
      "metadata": {
        "id": "wjglcGjKxZIF"
      },
      "execution_count": null,
      "outputs": []
    },
    {
      "cell_type": "code",
      "source": [
        "#Média das notas de corte dos cursos de tempo integral.\n",
        "turno = dataset2.groupby('turno')\n",
        "\n",
        "media_tempo_integral = turno.get_group('Integral')['nota_integral_ampla'].mean()\n",
        "media_tempo_integral"
      ],
      "metadata": {
        "id": "7AbXzx4qxdQU"
      },
      "execution_count": null,
      "outputs": []
    },
    {
      "cell_type": "code",
      "source": [
        "#Estatística Descritiva das Notas Integral Ampla dos cursos de Bacharelado.\n",
        "turno = dataset2.groupby('turno')\n",
        "\n",
        "media_curso_tempo_integral = turno.get_group('Integral')['nota_integral_ampla'].mean()\n",
        "media_curso_tempo_integral"
      ],
      "metadata": {
        "id": "b7rN3twHxgoc"
      },
      "execution_count": null,
      "outputs": []
    },
    {
      "cell_type": "code",
      "source": [
        "#Gráfico comparativo entre o grau dos cursos (Bacharelado, Licenciatura, Tecnologia, etc)\n",
        "#pelas Notas Integral de Cotas.import matplotlib.pyplot as plot\n",
        "import matplotlib.pyplot as plt\n",
        "curso_integral = dataset2.groupby('grau')['nota_integral_cotas'].mean()\n",
        "curso_integral.plot.bar(x='grau', y='nota_integral_cotas')\n",
        "plt.xlabel('Cursos')\n",
        "plt.ylabel('Notas')\n",
        "plt.show()"
      ],
      "metadata": {
        "id": "eo24nhwCxj0z"
      },
      "execution_count": null,
      "outputs": []
    }
  ]
}